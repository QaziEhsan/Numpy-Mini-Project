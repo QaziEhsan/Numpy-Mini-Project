{
  "nbformat": 4,
  "nbformat_minor": 0,
  "metadata": {
    "colab": {
      "provenance": []
    },
    "kernelspec": {
      "name": "python3",
      "display_name": "Python 3"
    },
    "language_info": {
      "name": "python"
    }
  },
  "cells": [
    {
      "cell_type": "code",
      "source": [
        "#import the required libraries\n",
        "import numpy as np"
      ],
      "metadata": {
        "id": "QOepuiVEQmVL"
      },
      "execution_count": 1,
      "outputs": []
    },
    {
      "cell_type": "markdown",
      "source": [
        "# Step 1 : Read the Data!"
      ],
      "metadata": {
        "id": "XJJVjthYIz6w"
      }
    },
    {
      "cell_type": "code",
      "execution_count": 2,
      "metadata": {
        "id": "7xcB2zo-O0t-",
        "colab": {
          "base_uri": "https://localhost:8080/",
          "height": 35
        },
        "outputId": "31f3b072-0039-4611-b4ef-ac7be6ecc145"
      },
      "outputs": [
        {
          "output_type": "execute_result",
          "data": {
            "text/plain": [
              "'/content/makeSenseOfCensus.csv'"
            ],
            "application/vnd.google.colaboratory.intrinsic+json": {
              "type": "string"
            }
          },
          "metadata": {},
          "execution_count": 2
        }
      ],
      "source": [
        "#give path of the source-file and store that path in a variable named census\n",
        "data_file =\"/content/makeSenseOfCensus.csv\"\n",
        "data_file\n"
      ]
    },
    {
      "cell_type": "markdown",
      "source": [
        "# Loading the data"
      ],
      "metadata": {
        "id": "OiSJcx6GLcWT"
      }
    },
    {
      "cell_type": "markdown",
      "source": [
        "You have studied getfromtext in Numpy Classes, now is the time to put it into action :) Below is the half completed code, you have to substitute values for delimiter and skip_header in it for hte data to be properly read into a Data array. The output of the array has been shared with you guys followed by the code block"
      ],
      "metadata": {
        "id": "VxJZY3U1nsPN"
      }
    },
    {
      "cell_type": "code",
      "source": [
        "data = np.genfromtxt(data_file, delimiter = \",\" , skip_header =1 )\n",
        "print(\"\\nData:\\n\", data)\n"
      ],
      "metadata": {
        "colab": {
          "base_uri": "https://localhost:8080/"
        },
        "id": "Fjx-kQkxQD7q",
        "outputId": "79c92599-1eb8-4e12-a0b0-d23db898bbcf"
      },
      "execution_count": 6,
      "outputs": [
        {
          "output_type": "stream",
          "name": "stdout",
          "text": [
            "\n",
            "Data:\n",
            " [[39. 13.  4. ...  0. 40.  0.]\n",
            " [50. 13.  4. ...  0. 13.  0.]\n",
            " [38.  9.  4. ...  0. 40.  0.]\n",
            " ...\n",
            " [48. 13.  4. ...  0. 58.  1.]\n",
            " [40. 10.  4. ...  0. 40.  0.]\n",
            " [39. 13.  4. ...  0. 50.  1.]]\n"
          ]
        }
      ]
    },
    {
      "cell_type": "markdown",
      "source": [
        "# Printing the type of data"
      ],
      "metadata": {
        "id": "lLoQJxpdOCfA"
      }
    },
    {
      "cell_type": "code",
      "source": [
        "#print the type of data\n",
        "print(\"\\nData:\\n\", data)\n"
      ],
      "metadata": {
        "colab": {
          "base_uri": "https://localhost:8080/"
        },
        "id": "xkPasCIhQ1qC",
        "outputId": "8ae5f32a-383d-4f7f-a2e2-c91a179b2202"
      },
      "execution_count": 7,
      "outputs": [
        {
          "output_type": "stream",
          "name": "stdout",
          "text": [
            "\n",
            "Data:\n",
            " [[39. 13.  4. ...  0. 40.  0.]\n",
            " [50. 13.  4. ...  0. 13.  0.]\n",
            " [38.  9.  4. ...  0. 40.  0.]\n",
            " ...\n",
            " [48. 13.  4. ...  0. 58.  1.]\n",
            " [40. 10.  4. ...  0. 40.  0.]\n",
            " [39. 13.  4. ...  0. 50.  1.]]\n"
          ]
        }
      ]
    },
    {
      "cell_type": "markdown",
      "source": [
        "# Step 2 : Append the Data"
      ],
      "metadata": {
        "id": "QTSTCc7jVppG"
      }
    },
    {
      "cell_type": "markdown",
      "source": [
        "A new record [[50,9,4,1,0,0,40,0]] has been given to you. You are supposed to append this new record into the data using np.concatenate()"
      ],
      "metadata": {
        "id": "-gz1eP4sfRpc"
      }
    },
    {
      "cell_type": "code",
      "source": [
        "new_record = [[50,9,4,1,0,0,40,0]]\n"
      ],
      "metadata": {
        "id": "jokdR-EtS1dz"
      },
      "execution_count": 8,
      "outputs": []
    },
    {
      "cell_type": "markdown",
      "source": [
        "## Append 'new_record' (given) to 'data' using \"np.concatenate()\""
      ],
      "metadata": {
        "id": "qVKX1_leVwqh"
      }
    },
    {
      "cell_type": "code",
      "source": [
        "data = np.concatenate((data,new_record))\n",
        "data"
      ],
      "metadata": {
        "id": "V38I3c5rTJPQ",
        "colab": {
          "base_uri": "https://localhost:8080/"
        },
        "outputId": "c5b75b8d-49a4-4f47-b6c5-432ca55cc39f"
      },
      "execution_count": 9,
      "outputs": [
        {
          "output_type": "execute_result",
          "data": {
            "text/plain": [
              "array([[39., 13.,  4., ...,  0., 40.,  0.],\n",
              "       [50., 13.,  4., ...,  0., 13.,  0.],\n",
              "       [38.,  9.,  4., ...,  0., 40.,  0.],\n",
              "       ...,\n",
              "       [40., 10.,  4., ...,  0., 40.,  0.],\n",
              "       [39., 13.,  4., ...,  0., 50.,  1.],\n",
              "       [50.,  9.,  4., ...,  0., 40.,  0.]])"
            ]
          },
          "metadata": {},
          "execution_count": 9
        }
      ]
    },
    {
      "cell_type": "code",
      "source": [
        "#display after appending the new record at the end of the array.\n"
      ],
      "metadata": {
        "colab": {
          "base_uri": "https://localhost:8080/"
        },
        "id": "QOWjaWI3TlP4",
        "outputId": "b87c4b40-64ac-4310-db00-99b1eaad2195"
      },
      "execution_count": null,
      "outputs": [
        {
          "output_type": "execute_result",
          "data": {
            "text/plain": [
              "array([[39., 13.,  4., ...,  0., 40.,  0.],\n",
              "       [50., 13.,  4., ...,  0., 13.,  0.],\n",
              "       [38.,  9.,  4., ...,  0., 40.,  0.],\n",
              "       ...,\n",
              "       [40., 10.,  4., ...,  0., 40.,  0.],\n",
              "       [39., 13.,  4., ...,  0., 50.,  1.],\n",
              "       [50.,  9.,  4., ...,  0., 40.,  0.]])"
            ]
          },
          "metadata": {},
          "execution_count": 41
        }
      ]
    },
    {
      "cell_type": "markdown",
      "source": [
        "# Step 3 : Check if it's a young country or old country"
      ],
      "metadata": {
        "id": "i_5WAJWYWHpL"
      }
    },
    {
      "cell_type": "markdown",
      "source": [
        " Create a new array called 'age' by taking only age column(age is the column with index 0) of 'census' array."
      ],
      "metadata": {
        "id": "_CqLiA9OWQPm"
      }
    },
    {
      "cell_type": "code",
      "source": [
        "age = data[:, 0 ]\n",
        "age"
      ],
      "metadata": {
        "id": "u-v0CJlJf8XA",
        "colab": {
          "base_uri": "https://localhost:8080/"
        },
        "outputId": "dc81636e-de17-43bc-b18a-992d230e915a"
      },
      "execution_count": 10,
      "outputs": [
        {
          "output_type": "execute_result",
          "data": {
            "text/plain": [
              "array([39., 50., 38., ..., 40., 39., 50.])"
            ]
          },
          "metadata": {},
          "execution_count": 10
        }
      ]
    },
    {
      "cell_type": "markdown",
      "source": [
        "Find the max age and store it in a variable called 'max_age'.\n",
        "\n"
      ],
      "metadata": {
        "id": "_IyNXVKqWpPS"
      }
    },
    {
      "cell_type": "code",
      "source": [
        "#print the max_age\n",
        "max_age =np.max(age)\n",
        "max_age"
      ],
      "metadata": {
        "id": "tczhOTFif33u",
        "colab": {
          "base_uri": "https://localhost:8080/"
        },
        "outputId": "f2f00948-b35e-4a12-9c18-bf9df69a3246"
      },
      "execution_count": 11,
      "outputs": [
        {
          "output_type": "execute_result",
          "data": {
            "text/plain": [
              "90.0"
            ]
          },
          "metadata": {},
          "execution_count": 11
        }
      ]
    },
    {
      "cell_type": "markdown",
      "source": [
        "Find the min age and store it in a variable called 'min_age'."
      ],
      "metadata": {
        "id": "ywrTp3KTWu9z"
      }
    },
    {
      "cell_type": "code",
      "source": [
        "#print the min_age\n",
        "min_age =np.min(age)\n",
        "min_age"
      ],
      "metadata": {
        "id": "QJ1VfCH7f0RG",
        "colab": {
          "base_uri": "https://localhost:8080/"
        },
        "outputId": "ccf57bd3-8d45-4ded-a6e3-7ba93a77291f"
      },
      "execution_count": 12,
      "outputs": [
        {
          "output_type": "execute_result",
          "data": {
            "text/plain": [
              "17.0"
            ]
          },
          "metadata": {},
          "execution_count": 12
        }
      ]
    },
    {
      "cell_type": "markdown",
      "source": [
        "Find the mean of the age and store it in a variable called 'age_mean'."
      ],
      "metadata": {
        "id": "k6TqZMYQd8w1"
      }
    },
    {
      "cell_type": "code",
      "source": [
        "#print the age_mean\n",
        "age_mean = np.mean(age)\n",
        "age_mean"
      ],
      "metadata": {
        "colab": {
          "base_uri": "https://localhost:8080/"
        },
        "id": "7dTC5eaIXs__",
        "outputId": "d34f6109-43c3-4cc4-89ea-2d44c0284a43"
      },
      "execution_count": 13,
      "outputs": [
        {
          "output_type": "execute_result",
          "data": {
            "text/plain": [
              "38.06293706293706"
            ]
          },
          "metadata": {},
          "execution_count": 13
        }
      ]
    },
    {
      "cell_type": "markdown",
      "source": [
        "Find the standard deviation of the age and store it in a variable called 'age_std'"
      ],
      "metadata": {
        "id": "GEDv3kfSeF9p"
      }
    },
    {
      "cell_type": "code",
      "source": [
        "#print the age_std\n",
        "age_std = np.std(age)\n",
        "age_std"
      ],
      "metadata": {
        "colab": {
          "base_uri": "https://localhost:8080/"
        },
        "id": "SF33E4XbX8Yi",
        "outputId": "a46a8d99-d5f5-4bb4-80af-ea7c350993c2"
      },
      "execution_count": 14,
      "outputs": [
        {
          "output_type": "execute_result",
          "data": {
            "text/plain": [
              "13.341478176165857"
            ]
          },
          "metadata": {},
          "execution_count": 14
        }
      ]
    },
    {
      "cell_type": "markdown",
      "source": [
        "# Step 4: Let's check the country's race distribution to identify the minorities"
      ],
      "metadata": {
        "id": "zfJWcybQecKB"
      }
    },
    {
      "cell_type": "markdown",
      "source": [
        "Create four different arrays by subsetting 'census' array by Race column(Race is the column with index 2) and save them in 'race_0','race_1', 'race_2', 'race_3' and 'race_4' respectively(Meaning: Store the array where 'race'column has value 0 in 'race_0', so on and so forth)"
      ],
      "metadata": {
        "id": "SrvNIFGvef4r"
      }
    },
    {
      "cell_type": "code",
      "source": [
        "race_0 =data[data[:,2] ==0]\n",
        "race_1 =data[data[:,2] ==1]\n",
        "race_2 =data[data[:,2] ==2]\n",
        "race_3 =data[data[:,2] ==3]\n",
        "race_4 =data[data[:,2] ==4]\n",
        "print(\"race 0 \\n\" , race_0)\n",
        "print(\"race1 \\n\" , race_1)\n",
        "print(\"race2\\n\" , race_2)\n",
        "print(\"race 3 \\n\" ,race_3)\n",
        "print(\"race4\\n\" ,race_4)\n"
      ],
      "metadata": {
        "colab": {
          "base_uri": "https://localhost:8080/"
        },
        "id": "q59ZW5kcXrW0",
        "outputId": "03f89ef8-8c30-436b-cef8-e5ce8783dada"
      },
      "execution_count": 16,
      "outputs": [
        {
          "output_type": "stream",
          "name": "stdout",
          "text": [
            "race 0 \n",
            " [[34.  4.  0.  1.  0.  0. 45.  0.]\n",
            " [35. 10.  0.  0.  0.  0. 40.  0.]\n",
            " [60.  6.  0.  0.  0.  0. 10.  0.]\n",
            " [51.  9.  0.  1.  0.  0. 40.  0.]\n",
            " [25. 10.  0.  0.  0.  0. 20.  0.]\n",
            " [20.  9.  0.  1.  0.  0. 48.  0.]\n",
            " [23. 10.  0.  0.  0.  0. 25.  0.]\n",
            " [29.  9.  0.  1.  0.  0. 40.  0.]\n",
            " [27. 12.  0.  1.  0.  0. 40.  0.]\n",
            " [31. 12.  0.  0.  0.  0. 40.  0.]]\n",
            "race1 \n",
            " [[3.000e+01 1.300e+01 1.000e+00 1.000e+00 0.000e+00 0.000e+00 4.000e+01\n",
            "  1.000e+00]\n",
            " [4.000e+01 1.100e+01 1.000e+00 1.000e+00 0.000e+00 0.000e+00 4.000e+01\n",
            "  1.000e+00]\n",
            " [5.400e+01 1.000e+01 1.000e+00 1.000e+00 0.000e+00 0.000e+00 6.000e+01\n",
            "  1.000e+00]\n",
            " [3.000e+01 9.000e+00 1.000e+00 0.000e+00 0.000e+00 1.573e+03 3.500e+01\n",
            "  0.000e+00]\n",
            " [4.900e+01 1.000e+01 1.000e+00 1.000e+00 0.000e+00 0.000e+00 4.000e+01\n",
            "  1.000e+00]\n",
            " [3.300e+01 1.300e+01 1.000e+00 0.000e+00 0.000e+00 0.000e+00 4.000e+01\n",
            "  0.000e+00]\n",
            " [4.400e+01 1.400e+01 1.000e+00 0.000e+00 0.000e+00 0.000e+00 4.000e+01\n",
            "  0.000e+00]\n",
            " [2.800e+01 9.000e+00 1.000e+00 0.000e+00 0.000e+00 0.000e+00 4.000e+01\n",
            "  0.000e+00]\n",
            " [6.000e+01 9.000e+00 1.000e+00 1.000e+00 0.000e+00 0.000e+00 4.000e+01\n",
            "  0.000e+00]\n",
            " [4.200e+01 9.000e+00 1.000e+00 1.000e+00 0.000e+00 0.000e+00 4.000e+01\n",
            "  1.000e+00]\n",
            " [3.700e+01 1.000e+01 1.000e+00 1.000e+00 0.000e+00 0.000e+00 7.500e+01\n",
            "  1.000e+00]\n",
            " [3.900e+01 1.400e+01 1.000e+00 0.000e+00 3.464e+03 0.000e+00 4.000e+01\n",
            "  0.000e+00]\n",
            " [2.100e+01 1.000e+01 1.000e+00 0.000e+00 0.000e+00 0.000e+00 2.500e+01\n",
            "  0.000e+00]\n",
            " [2.400e+01 1.000e+01 1.000e+00 0.000e+00 0.000e+00 0.000e+00 4.000e+01\n",
            "  0.000e+00]\n",
            " [3.400e+01 1.400e+01 1.000e+00 1.000e+00 7.298e+03 0.000e+00 3.500e+01\n",
            "  1.000e+00]\n",
            " [2.700e+01 1.000e+01 1.000e+00 1.000e+00 0.000e+00 1.980e+03 4.000e+01\n",
            "  0.000e+00]\n",
            " [4.000e+01 1.100e+01 1.000e+00 1.000e+00 0.000e+00 0.000e+00 4.000e+01\n",
            "  1.000e+00]\n",
            " [5.500e+01 9.000e+00 1.000e+00 0.000e+00 0.000e+00 0.000e+00 4.000e+01\n",
            "  0.000e+00]\n",
            " [3.500e+01 1.600e+01 1.000e+00 1.000e+00 0.000e+00 0.000e+00 4.000e+01\n",
            "  1.000e+00]\n",
            " [2.900e+01 1.000e+01 1.000e+00 0.000e+00 0.000e+00 0.000e+00 4.000e+01\n",
            "  0.000e+00]\n",
            " [2.000e+01 7.000e+00 1.000e+00 0.000e+00 0.000e+00 1.762e+03 4.000e+01\n",
            "  0.000e+00]\n",
            " [5.500e+01 1.000e+01 1.000e+00 0.000e+00 0.000e+00 0.000e+00 4.000e+01\n",
            "  0.000e+00]\n",
            " [5.100e+01 1.300e+01 1.000e+00 1.000e+00 0.000e+00 2.415e+03 4.000e+01\n",
            "  1.000e+00]\n",
            " [2.800e+01 1.100e+01 1.000e+00 0.000e+00 0.000e+00 0.000e+00 4.000e+01\n",
            "  0.000e+00]\n",
            " [4.300e+01 1.400e+01 1.000e+00 0.000e+00 0.000e+00 0.000e+00 5.000e+01\n",
            "  0.000e+00]\n",
            " [6.700e+01 9.000e+00 1.000e+00 1.000e+00 0.000e+00 0.000e+00 4.000e+01\n",
            "  1.000e+00]\n",
            " [4.800e+01 1.300e+01 1.000e+00 1.000e+00 0.000e+00 0.000e+00 4.000e+01\n",
            "  1.000e+00]]\n",
            "race2\n",
            " [[5.300e+01 7.000e+00 2.000e+00 1.000e+00 0.000e+00 0.000e+00 4.000e+01\n",
            "  0.000e+00]\n",
            " [2.800e+01 1.300e+01 2.000e+00 0.000e+00 0.000e+00 0.000e+00 4.000e+01\n",
            "  0.000e+00]\n",
            " [4.900e+01 5.000e+00 2.000e+00 0.000e+00 0.000e+00 0.000e+00 1.600e+01\n",
            "  0.000e+00]\n",
            " [3.700e+01 1.000e+01 2.000e+00 1.000e+00 0.000e+00 0.000e+00 8.000e+01\n",
            "  1.000e+00]\n",
            " [3.200e+01 1.200e+01 2.000e+00 1.000e+00 0.000e+00 0.000e+00 5.000e+01\n",
            "  0.000e+00]\n",
            " [5.400e+01 9.000e+00 2.000e+00 0.000e+00 0.000e+00 0.000e+00 2.000e+01\n",
            "  0.000e+00]\n",
            " [3.500e+01 5.000e+00 2.000e+00 1.000e+00 0.000e+00 0.000e+00 4.000e+01\n",
            "  0.000e+00]\n",
            " [2.000e+01 1.000e+01 2.000e+00 1.000e+00 0.000e+00 0.000e+00 4.400e+01\n",
            "  0.000e+00]\n",
            " [2.200e+01 1.000e+01 2.000e+00 1.000e+00 0.000e+00 0.000e+00 1.500e+01\n",
            "  0.000e+00]\n",
            " [5.700e+01 1.300e+01 2.000e+00 1.000e+00 0.000e+00 0.000e+00 4.000e+01\n",
            "  1.000e+00]\n",
            " [3.100e+01 1.300e+01 2.000e+00 0.000e+00 0.000e+00 0.000e+00 4.000e+01\n",
            "  0.000e+00]\n",
            " [2.800e+01 1.000e+01 2.000e+00 0.000e+00 0.000e+00 0.000e+00 2.500e+01\n",
            "  0.000e+00]\n",
            " [3.200e+01 9.000e+00 2.000e+00 1.000e+00 0.000e+00 0.000e+00 4.000e+01\n",
            "  0.000e+00]\n",
            " [4.900e+01 1.100e+01 2.000e+00 1.000e+00 0.000e+00 0.000e+00 4.000e+01\n",
            "  1.000e+00]\n",
            " [3.000e+01 1.300e+01 2.000e+00 1.000e+00 0.000e+00 0.000e+00 4.000e+01\n",
            "  0.000e+00]\n",
            " [1.900e+01 1.000e+01 2.000e+00 1.000e+00 0.000e+00 0.000e+00 3.500e+01\n",
            "  0.000e+00]\n",
            " [4.600e+01 1.200e+01 2.000e+00 0.000e+00 0.000e+00 0.000e+00 3.600e+01\n",
            "  0.000e+00]\n",
            " [3.100e+01 9.000e+00 2.000e+00 0.000e+00 0.000e+00 0.000e+00 3.000e+01\n",
            "  0.000e+00]\n",
            " [7.100e+01 1.000e+01 2.000e+00 1.000e+00 0.000e+00 1.816e+03 2.000e+00\n",
            "  0.000e+00]\n",
            " [4.200e+01 1.300e+01 2.000e+00 1.000e+00 0.000e+00 0.000e+00 5.000e+01\n",
            "  0.000e+00]\n",
            " [2.100e+01 9.000e+00 2.000e+00 1.000e+00 0.000e+00 0.000e+00 4.000e+01\n",
            "  0.000e+00]\n",
            " [3.400e+01 9.000e+00 2.000e+00 1.000e+00 0.000e+00 0.000e+00 4.000e+01\n",
            "  0.000e+00]\n",
            " [4.400e+01 1.000e+01 2.000e+00 1.000e+00 0.000e+00 0.000e+00 3.800e+01\n",
            "  1.000e+00]\n",
            " [3.000e+01 1.000e+01 2.000e+00 1.000e+00 0.000e+00 0.000e+00 4.500e+01\n",
            "  0.000e+00]\n",
            " [3.400e+01 9.000e+00 2.000e+00 1.000e+00 0.000e+00 0.000e+00 4.000e+01\n",
            "  0.000e+00]\n",
            " [3.800e+01 1.000e+01 2.000e+00 0.000e+00 0.000e+00 0.000e+00 2.800e+01\n",
            "  0.000e+00]\n",
            " [4.100e+01 1.300e+01 2.000e+00 1.000e+00 0.000e+00 0.000e+00 4.000e+01\n",
            "  0.000e+00]\n",
            " [3.600e+01 1.300e+01 2.000e+00 1.000e+00 7.298e+03 0.000e+00 3.600e+01\n",
            "  1.000e+00]\n",
            " [4.400e+01 9.000e+00 2.000e+00 1.000e+00 0.000e+00 0.000e+00 4.000e+01\n",
            "  0.000e+00]\n",
            " [3.700e+01 1.300e+01 2.000e+00 1.000e+00 0.000e+00 0.000e+00 6.000e+01\n",
            "  1.000e+00]\n",
            " [9.000e+01 9.000e+00 2.000e+00 1.000e+00 0.000e+00 2.206e+03 4.000e+01\n",
            "  0.000e+00]\n",
            " [5.400e+01 9.000e+00 2.000e+00 1.000e+00 0.000e+00 0.000e+00 2.000e+01\n",
            "  0.000e+00]\n",
            " [3.500e+01 7.000e+00 2.000e+00 1.000e+00 3.674e+03 0.000e+00 4.000e+01\n",
            "  0.000e+00]\n",
            " [4.100e+01 9.000e+00 2.000e+00 0.000e+00 0.000e+00 0.000e+00 3.800e+01\n",
            "  0.000e+00]\n",
            " [4.200e+01 1.300e+01 2.000e+00 0.000e+00 0.000e+00 0.000e+00 4.000e+01\n",
            "  0.000e+00]\n",
            " [5.900e+01 6.000e+00 2.000e+00 0.000e+00 0.000e+00 0.000e+00 3.000e+01\n",
            "  0.000e+00]\n",
            " [4.300e+01 9.000e+00 2.000e+00 1.000e+00 0.000e+00 0.000e+00 4.000e+01\n",
            "  0.000e+00]\n",
            " [3.400e+01 1.200e+01 2.000e+00 0.000e+00 0.000e+00 0.000e+00 4.500e+01\n",
            "  0.000e+00]\n",
            " [2.700e+01 1.300e+01 2.000e+00 0.000e+00 0.000e+00 0.000e+00 4.000e+01\n",
            "  0.000e+00]\n",
            " [1.900e+01 1.000e+01 2.000e+00 0.000e+00 0.000e+00 0.000e+00 2.500e+01\n",
            "  0.000e+00]\n",
            " [3.600e+01 1.300e+01 2.000e+00 0.000e+00 0.000e+00 0.000e+00 4.000e+01\n",
            "  1.000e+00]\n",
            " [2.300e+01 1.100e+01 2.000e+00 0.000e+00 0.000e+00 0.000e+00 1.500e+01\n",
            "  0.000e+00]\n",
            " [4.100e+01 1.000e+01 2.000e+00 1.000e+00 0.000e+00 0.000e+00 4.500e+01\n",
            "  0.000e+00]\n",
            " [1.900e+01 9.000e+00 2.000e+00 1.000e+00 0.000e+00 0.000e+00 3.000e+01\n",
            "  0.000e+00]\n",
            " [4.500e+01 9.000e+00 2.000e+00 1.000e+00 0.000e+00 0.000e+00 4.000e+01\n",
            "  0.000e+00]\n",
            " [2.200e+01 1.000e+01 2.000e+00 0.000e+00 0.000e+00 0.000e+00 4.000e+01\n",
            "  0.000e+00]\n",
            " [4.500e+01 9.000e+00 2.000e+00 1.000e+00 0.000e+00 0.000e+00 4.000e+01\n",
            "  0.000e+00]\n",
            " [4.400e+01 9.000e+00 2.000e+00 1.000e+00 0.000e+00 0.000e+00 4.000e+01\n",
            "  0.000e+00]\n",
            " [4.100e+01 1.000e+01 2.000e+00 0.000e+00 0.000e+00 0.000e+00 2.400e+01\n",
            "  0.000e+00]\n",
            " [2.400e+01 9.000e+00 2.000e+00 0.000e+00 0.000e+00 0.000e+00 4.000e+01\n",
            "  0.000e+00]\n",
            " [3.400e+01 7.000e+00 2.000e+00 1.000e+00 0.000e+00 0.000e+00 4.000e+01\n",
            "  0.000e+00]\n",
            " [3.400e+01 9.000e+00 2.000e+00 1.000e+00 5.940e+02 0.000e+00 6.000e+01\n",
            "  0.000e+00]\n",
            " [4.400e+01 9.000e+00 2.000e+00 0.000e+00 0.000e+00 0.000e+00 4.000e+01\n",
            "  0.000e+00]\n",
            " [1.900e+01 9.000e+00 2.000e+00 0.000e+00 0.000e+00 0.000e+00 4.000e+01\n",
            "  0.000e+00]\n",
            " [4.200e+01 1.200e+01 2.000e+00 1.000e+00 0.000e+00 0.000e+00 4.000e+01\n",
            "  1.000e+00]\n",
            " [3.800e+01 1.000e+01 2.000e+00 1.000e+00 0.000e+00 0.000e+00 5.000e+01\n",
            "  0.000e+00]\n",
            " [5.400e+01 9.000e+00 2.000e+00 1.000e+00 0.000e+00 0.000e+00 4.000e+01\n",
            "  0.000e+00]\n",
            " [5.200e+01 8.000e+00 2.000e+00 1.000e+00 5.940e+02 0.000e+00 4.000e+01\n",
            "  0.000e+00]\n",
            " [2.500e+01 1.000e+01 2.000e+00 0.000e+00 0.000e+00 0.000e+00 2.000e+01\n",
            "  0.000e+00]\n",
            " [2.400e+01 1.300e+01 2.000e+00 1.000e+00 0.000e+00 0.000e+00 4.000e+01\n",
            "  0.000e+00]\n",
            " [4.700e+01 9.000e+00 2.000e+00 0.000e+00 0.000e+00 0.000e+00 4.000e+01\n",
            "  0.000e+00]\n",
            " [5.300e+01 3.000e+00 2.000e+00 0.000e+00 0.000e+00 0.000e+00 3.000e+01\n",
            "  0.000e+00]\n",
            " [2.400e+01 1.000e+01 2.000e+00 1.000e+00 0.000e+00 0.000e+00 5.000e+01\n",
            "  0.000e+00]\n",
            " [3.600e+01 9.000e+00 2.000e+00 1.000e+00 0.000e+00 0.000e+00 4.000e+01\n",
            "  0.000e+00]\n",
            " [5.700e+01 2.000e+00 2.000e+00 0.000e+00 0.000e+00 0.000e+00 3.000e+01\n",
            "  0.000e+00]\n",
            " [3.400e+01 9.000e+00 2.000e+00 0.000e+00 0.000e+00 0.000e+00 4.000e+01\n",
            "  0.000e+00]\n",
            " [3.500e+01 9.000e+00 2.000e+00 0.000e+00 0.000e+00 0.000e+00 4.000e+01\n",
            "  0.000e+00]\n",
            " [3.300e+01 1.100e+01 2.000e+00 0.000e+00 0.000e+00 0.000e+00 4.000e+01\n",
            "  1.000e+00]\n",
            " [2.400e+01 9.000e+00 2.000e+00 0.000e+00 0.000e+00 0.000e+00 4.000e+01\n",
            "  0.000e+00]\n",
            " [4.800e+01 9.000e+00 2.000e+00 0.000e+00 0.000e+00 0.000e+00 3.700e+01\n",
            "  0.000e+00]\n",
            " [3.600e+01 9.000e+00 2.000e+00 1.000e+00 0.000e+00 0.000e+00 4.000e+01\n",
            "  0.000e+00]\n",
            " [3.000e+01 9.000e+00 2.000e+00 1.000e+00 0.000e+00 0.000e+00 4.500e+01\n",
            "  0.000e+00]\n",
            " [4.500e+01 7.000e+00 2.000e+00 0.000e+00 0.000e+00 0.000e+00 2.000e+01\n",
            "  0.000e+00]\n",
            " [6.500e+01 5.000e+00 2.000e+00 0.000e+00 0.000e+00 0.000e+00 2.400e+01\n",
            "  0.000e+00]\n",
            " [3.000e+01 9.000e+00 2.000e+00 1.000e+00 0.000e+00 0.000e+00 6.000e+01\n",
            "  0.000e+00]\n",
            " [4.700e+01 1.000e+01 2.000e+00 0.000e+00 0.000e+00 0.000e+00 4.000e+01\n",
            "  0.000e+00]\n",
            " [4.900e+01 6.000e+00 2.000e+00 0.000e+00 0.000e+00 0.000e+00 4.000e+01\n",
            "  0.000e+00]\n",
            " [3.000e+01 1.300e+01 2.000e+00 0.000e+00 0.000e+00 0.000e+00 4.000e+01\n",
            "  1.000e+00]\n",
            " [4.400e+01 8.000e+00 2.000e+00 1.000e+00 0.000e+00 0.000e+00 4.000e+01\n",
            "  1.000e+00]\n",
            " [4.200e+01 9.000e+00 2.000e+00 1.000e+00 0.000e+00 0.000e+00 4.000e+01\n",
            "  1.000e+00]\n",
            " [2.300e+01 1.000e+01 2.000e+00 1.000e+00 0.000e+00 0.000e+00 4.000e+01\n",
            "  0.000e+00]\n",
            " [2.400e+01 1.000e+01 2.000e+00 0.000e+00 0.000e+00 0.000e+00 4.500e+01\n",
            "  0.000e+00]\n",
            " [4.000e+01 8.000e+00 2.000e+00 1.000e+00 0.000e+00 0.000e+00 4.000e+01\n",
            "  0.000e+00]\n",
            " [4.500e+01 1.000e+01 2.000e+00 1.000e+00 0.000e+00 0.000e+00 4.000e+01\n",
            "  0.000e+00]\n",
            " [3.600e+01 1.000e+01 2.000e+00 0.000e+00 0.000e+00 0.000e+00 4.000e+01\n",
            "  0.000e+00]\n",
            " [3.100e+01 9.000e+00 2.000e+00 0.000e+00 0.000e+00 0.000e+00 4.000e+01\n",
            "  0.000e+00]\n",
            " [4.500e+01 1.000e+01 2.000e+00 0.000e+00 0.000e+00 0.000e+00 4.000e+01\n",
            "  0.000e+00]\n",
            " [3.600e+01 1.000e+01 2.000e+00 0.000e+00 0.000e+00 0.000e+00 3.600e+01\n",
            "  0.000e+00]\n",
            " [5.600e+01 9.000e+00 2.000e+00 0.000e+00 5.940e+02 0.000e+00 2.000e+01\n",
            "  0.000e+00]\n",
            " [3.200e+01 1.000e+01 2.000e+00 0.000e+00 0.000e+00 0.000e+00 4.000e+01\n",
            "  0.000e+00]\n",
            " [2.900e+01 7.000e+00 2.000e+00 1.000e+00 0.000e+00 0.000e+00 4.000e+01\n",
            "  0.000e+00]\n",
            " [3.700e+01 9.000e+00 2.000e+00 1.000e+00 0.000e+00 0.000e+00 4.000e+01\n",
            "  0.000e+00]\n",
            " [4.200e+01 1.000e+01 2.000e+00 0.000e+00 0.000e+00 0.000e+00 3.800e+01\n",
            "  0.000e+00]\n",
            " [2.200e+01 1.000e+01 2.000e+00 1.000e+00 0.000e+00 0.000e+00 2.000e+01\n",
            "  0.000e+00]\n",
            " [2.500e+01 9.000e+00 2.000e+00 1.000e+00 0.000e+00 0.000e+00 4.000e+01\n",
            "  0.000e+00]\n",
            " [2.400e+01 9.000e+00 2.000e+00 1.000e+00 0.000e+00 1.721e+03 3.000e+01\n",
            "  0.000e+00]\n",
            " [2.200e+01 1.000e+01 2.000e+00 1.000e+00 0.000e+00 0.000e+00 4.000e+01\n",
            "  0.000e+00]\n",
            " [5.500e+01 3.000e+00 2.000e+00 1.000e+00 0.000e+00 0.000e+00 2.500e+01\n",
            "  0.000e+00]\n",
            " [2.300e+01 9.000e+00 2.000e+00 0.000e+00 0.000e+00 0.000e+00 7.000e+00\n",
            "  0.000e+00]\n",
            " [5.400e+01 9.000e+00 2.000e+00 1.000e+00 0.000e+00 0.000e+00 4.000e+01\n",
            "  0.000e+00]\n",
            " [4.800e+01 1.000e+01 2.000e+00 0.000e+00 0.000e+00 0.000e+00 3.000e+01\n",
            "  0.000e+00]\n",
            " [2.400e+01 1.300e+01 2.000e+00 1.000e+00 0.000e+00 0.000e+00 1.500e+01\n",
            "  0.000e+00]\n",
            " [2.300e+01 9.000e+00 2.000e+00 1.000e+00 0.000e+00 0.000e+00 4.000e+01\n",
            "  0.000e+00]\n",
            " [3.800e+01 1.000e+01 2.000e+00 0.000e+00 0.000e+00 0.000e+00 4.000e+01\n",
            "  0.000e+00]\n",
            " [3.500e+01 9.000e+00 2.000e+00 1.000e+00 0.000e+00 0.000e+00 4.000e+01\n",
            "  0.000e+00]\n",
            " [5.400e+01 1.000e+01 2.000e+00 0.000e+00 0.000e+00 0.000e+00 3.500e+01\n",
            "  0.000e+00]\n",
            " [5.100e+01 4.000e+00 2.000e+00 0.000e+00 0.000e+00 0.000e+00 4.000e+01\n",
            "  0.000e+00]\n",
            " [7.800e+01 9.000e+00 2.000e+00 0.000e+00 2.964e+03 0.000e+00 4.000e+01\n",
            "  0.000e+00]\n",
            " [2.300e+01 9.000e+00 2.000e+00 0.000e+00 0.000e+00 0.000e+00 4.000e+01\n",
            "  0.000e+00]\n",
            " [4.100e+01 9.000e+00 2.000e+00 0.000e+00 0.000e+00 0.000e+00 3.500e+01\n",
            "  0.000e+00]]\n",
            "race 3 \n",
            " [[2.500e+01 1.000e+01 3.000e+00 0.000e+00 0.000e+00 0.000e+00 4.000e+01\n",
            "  0.000e+00]\n",
            " [3.300e+01 1.000e+01 3.000e+00 0.000e+00 0.000e+00 0.000e+00 4.000e+01\n",
            "  0.000e+00]\n",
            " [6.500e+01 7.000e+00 3.000e+00 1.000e+00 0.000e+00 0.000e+00 4.000e+01\n",
            "  0.000e+00]\n",
            " [2.800e+01 4.000e+00 3.000e+00 1.000e+00 0.000e+00 2.179e+03 4.000e+01\n",
            "  0.000e+00]\n",
            " [4.400e+01 7.000e+00 3.000e+00 0.000e+00 0.000e+00 0.000e+00 4.600e+01\n",
            "  0.000e+00]\n",
            " [4.000e+01 1.300e+01 3.000e+00 0.000e+00 0.000e+00 0.000e+00 5.500e+01\n",
            "  1.000e+00]]\n",
            "race4\n",
            " [[39. 13.  4. ...  0. 40.  0.]\n",
            " [50. 13.  4. ...  0. 13.  0.]\n",
            " [38.  9.  4. ...  0. 40.  0.]\n",
            " ...\n",
            " [40. 10.  4. ...  0. 40.  0.]\n",
            " [39. 13.  4. ...  0. 50.  1.]\n",
            " [50.  9.  4. ...  0. 40.  0.]]\n"
          ]
        }
      ]
    },
    {
      "cell_type": "code",
      "source": [
        "\n"
      ],
      "metadata": {
        "colab": {
          "base_uri": "https://localhost:8080/"
        },
        "id": "2iaIx6n6YHPh",
        "outputId": "a540ec02-058f-4e3b-d050-087deff6de4a"
      },
      "execution_count": null,
      "outputs": [
        {
          "output_type": "execute_result",
          "data": {
            "text/plain": [
              "array([[34.,  4.,  0.,  1.,  0.,  0., 45.,  0.],\n",
              "       [35., 10.,  0.,  0.,  0.,  0., 40.,  0.],\n",
              "       [60.,  6.,  0.,  0.,  0.,  0., 10.,  0.],\n",
              "       [51.,  9.,  0.,  1.,  0.,  0., 40.,  0.],\n",
              "       [25., 10.,  0.,  0.,  0.,  0., 20.,  0.],\n",
              "       [20.,  9.,  0.,  1.,  0.,  0., 48.,  0.],\n",
              "       [23., 10.,  0.,  0.,  0.,  0., 25.,  0.],\n",
              "       [29.,  9.,  0.,  1.,  0.,  0., 40.,  0.],\n",
              "       [27., 12.,  0.,  1.,  0.,  0., 40.,  0.],\n",
              "       [31., 12.,  0.,  0.,  0.,  0., 40.,  0.]])"
            ]
          },
          "metadata": {},
          "execution_count": 47
        }
      ]
    },
    {
      "cell_type": "code",
      "source": [],
      "metadata": {
        "id": "OEz-yzfrYxFC"
      },
      "execution_count": null,
      "outputs": []
    },
    {
      "cell_type": "markdown",
      "source": [
        "Store the length of the above created arrays in 'len_0', 'len_1','len_2', 'len_3' and 'len_4' respectively"
      ],
      "metadata": {
        "id": "thg4wOEQeo1x"
      }
    },
    {
      "cell_type": "code",
      "source": [
        "len_0=len(race_0)\n",
        "len_0"
      ],
      "metadata": {
        "id": "6Nbz3CBkZHLY",
        "colab": {
          "base_uri": "https://localhost:8080/"
        },
        "outputId": "61c7d5fa-6f26-4841-8398-3f601b717af2"
      },
      "execution_count": 18,
      "outputs": [
        {
          "output_type": "execute_result",
          "data": {
            "text/plain": [
              "10"
            ]
          },
          "metadata": {},
          "execution_count": 18
        }
      ]
    },
    {
      "cell_type": "code",
      "source": [
        "len_1=len(race_1)\n",
        "len_1"
      ],
      "metadata": {
        "id": "Zm0CnpfHaWQ7",
        "colab": {
          "base_uri": "https://localhost:8080/"
        },
        "outputId": "b8fea224-e50a-4762-db49-c01a6eba875d"
      },
      "execution_count": 19,
      "outputs": [
        {
          "output_type": "execute_result",
          "data": {
            "text/plain": [
              "27"
            ]
          },
          "metadata": {},
          "execution_count": 19
        }
      ]
    },
    {
      "cell_type": "code",
      "source": [
        "len_2=len(race_2)\n",
        "len_2"
      ],
      "metadata": {
        "id": "BmTApcJTab3j",
        "colab": {
          "base_uri": "https://localhost:8080/"
        },
        "outputId": "3c977f05-cae3-4f22-b85e-fb2067361ca2"
      },
      "execution_count": 20,
      "outputs": [
        {
          "output_type": "execute_result",
          "data": {
            "text/plain": [
              "110"
            ]
          },
          "metadata": {},
          "execution_count": 20
        }
      ]
    },
    {
      "cell_type": "code",
      "source": [
        "len_3=len(race_3)\n",
        "len_3"
      ],
      "metadata": {
        "id": "O-SEHnv9afoQ",
        "colab": {
          "base_uri": "https://localhost:8080/"
        },
        "outputId": "6de4cafc-9015-430c-8cb2-9c3885ac8909"
      },
      "execution_count": 21,
      "outputs": [
        {
          "output_type": "execute_result",
          "data": {
            "text/plain": [
              "6"
            ]
          },
          "metadata": {},
          "execution_count": 21
        }
      ]
    },
    {
      "cell_type": "code",
      "source": [
        "len_4=len(race_4)\n",
        "len_4"
      ],
      "metadata": {
        "id": "HksygZJFaogo",
        "colab": {
          "base_uri": "https://localhost:8080/"
        },
        "outputId": "e8bd9dd0-b9c5-4d7c-c09c-5f311c7b78e3"
      },
      "execution_count": 17,
      "outputs": [
        {
          "output_type": "execute_result",
          "data": {
            "text/plain": [
              "848"
            ]
          },
          "metadata": {},
          "execution_count": 17
        }
      ]
    },
    {
      "cell_type": "markdown",
      "source": [
        "Find out which is the race with the minimum no. of citizens"
      ],
      "metadata": {
        "id": "p57jTibJezYj"
      }
    },
    {
      "cell_type": "code",
      "source": [
        "min_num_of_citizen =min(len_0,len_1,len_2,len_3,len_4)\n",
        "min_num_of_citizen\n"
      ],
      "metadata": {
        "id": "axqxJHRBdMQL",
        "colab": {
          "base_uri": "https://localhost:8080/"
        },
        "outputId": "d46b2d08-7fb6-434e-ff76-432b173ee667"
      },
      "execution_count": 23,
      "outputs": [
        {
          "output_type": "execute_result",
          "data": {
            "text/plain": [
              "6"
            ]
          },
          "metadata": {},
          "execution_count": 23
        }
      ]
    },
    {
      "cell_type": "markdown",
      "source": [
        "Find out which is the race with the minimum no. of citizens"
      ],
      "metadata": {
        "id": "yJVgGJLgfJcV"
      }
    },
    {
      "cell_type": "code",
      "source": [
        "max_num_of_citizen =max(len_0,len_1,len_2,len_3,len_4)\n",
        "max_num_of_citizen\n"
      ],
      "metadata": {
        "id": "LnvFjvidgdzb",
        "colab": {
          "base_uri": "https://localhost:8080/"
        },
        "outputId": "c2ef4c61-20b6-40c4-ae23-adc7eec11d22"
      },
      "execution_count": 24,
      "outputs": [
        {
          "output_type": "execute_result",
          "data": {
            "text/plain": [
              "848"
            ]
          },
          "metadata": {},
          "execution_count": 24
        }
      ]
    },
    {
      "cell_type": "markdown",
      "source": [
        "Store the number associated with the minority race in a variable called 'minority_race'(For eg: if \"len(race_5)\" is the minimum, store 5 in 'minority_race' because that is the index of the race having the least no. of citizens )"
      ],
      "metadata": {
        "id": "OJmzGHoZfSHv"
      }
    },
    {
      "cell_type": "markdown",
      "source": [],
      "metadata": {
        "id": "S0gPZtVqkAHz"
      }
    },
    {
      "cell_type": "code",
      "source": [
        "race_length =[len_0,len_1,len_2,len_3,len_4]\n",
        "minority_race =race_length.index(min(race_length))\n",
        "minority_race"
      ],
      "metadata": {
        "id": "xi96yzv9gmar",
        "colab": {
          "base_uri": "https://localhost:8080/"
        },
        "outputId": "86e96047-b510-4d11-c65b-afa8719b5579"
      },
      "execution_count": 28,
      "outputs": [
        {
          "output_type": "execute_result",
          "data": {
            "text/plain": [
              "3"
            ]
          },
          "metadata": {},
          "execution_count": 28
        }
      ]
    },
    {
      "cell_type": "markdown",
      "source": [
        "Store the number associated with the minority race in a variable called 'minority_race'(For eg: if \"len(race_5)\" is the minimum, store 5 in 'minority_race' because that is the index of the race having the least no. of citizens )"
      ],
      "metadata": {
        "id": "jrg7qCPZhwnu"
      }
    },
    {
      "cell_type": "code",
      "source": [
        "race_length =[len_0,len_1,len_2,len_3,len_4]\n",
        "minority_race =race_length.index(max(race_length))\n",
        "minority_race"
      ],
      "metadata": {
        "id": "A3IPB6qMgocF",
        "colab": {
          "base_uri": "https://localhost:8080/"
        },
        "outputId": "1934772e-6082-4707-e4b4-ae57efdf1e64"
      },
      "execution_count": 29,
      "outputs": [
        {
          "output_type": "execute_result",
          "data": {
            "text/plain": [
              "4"
            ]
          },
          "metadata": {},
          "execution_count": 29
        }
      ]
    },
    {
      "cell_type": "markdown",
      "source": [
        "# Step 5: As per govt. records citizens above 60 should not work more than 25 hours a week. Let us check if the policy is in place"
      ],
      "metadata": {
        "id": "E1Rwgqxf9F9V"
      }
    },
    {
      "cell_type": "markdown",
      "source": [
        "a.Create a new subset array called 'senior_citizens' by filtering 'census' according to age>60 (age is the column with index 0)"
      ],
      "metadata": {
        "id": "XT4Jy_Wn9Vww"
      }
    },
    {
      "cell_type": "markdown",
      "source": [
        "[Row,Columns]  :"
      ],
      "metadata": {
        "id": "6AEHuxcS-uGh"
      }
    },
    {
      "cell_type": "code",
      "source": [
        "#from age column, filter out age data > 60\n",
        "senior_citizens =data[data[:,0] >60]\n",
        "senior_citizens\n"
      ],
      "metadata": {
        "colab": {
          "base_uri": "https://localhost:8080/"
        },
        "id": "oX6E5VZv9Z4j",
        "outputId": "e8bd91d7-bff9-4545-d670-add39e38a65c"
      },
      "execution_count": 30,
      "outputs": [
        {
          "output_type": "execute_result",
          "data": {
            "text/plain": [
              "array([[7.9000e+01, 1.0000e+01, 4.0000e+00, 1.0000e+00, 0.0000e+00,\n",
              "        0.0000e+00, 2.0000e+01, 0.0000e+00],\n",
              "       [6.7000e+01, 6.0000e+00, 4.0000e+00, 1.0000e+00, 0.0000e+00,\n",
              "        0.0000e+00, 2.0000e+00, 0.0000e+00],\n",
              "       [7.6000e+01, 1.4000e+01, 4.0000e+00, 1.0000e+00, 0.0000e+00,\n",
              "        0.0000e+00, 4.0000e+01, 1.0000e+00],\n",
              "       [6.1000e+01, 9.0000e+00, 4.0000e+00, 1.0000e+00, 0.0000e+00,\n",
              "        0.0000e+00, 4.0000e+01, 0.0000e+00],\n",
              "       [7.0000e+01, 1.0000e+01, 4.0000e+00, 1.0000e+00, 0.0000e+00,\n",
              "        0.0000e+00, 4.0000e+01, 0.0000e+00],\n",
              "       [6.4000e+01, 7.0000e+00, 4.0000e+00, 1.0000e+00, 0.0000e+00,\n",
              "        2.1790e+03, 4.0000e+01, 0.0000e+00],\n",
              "       [7.1000e+01, 1.0000e+01, 2.0000e+00, 1.0000e+00, 0.0000e+00,\n",
              "        1.8160e+03, 2.0000e+00, 0.0000e+00],\n",
              "       [6.8000e+01, 2.0000e+00, 4.0000e+00, 0.0000e+00, 0.0000e+00,\n",
              "        0.0000e+00, 2.0000e+01, 0.0000e+00],\n",
              "       [6.6000e+01, 1.1000e+01, 4.0000e+00, 0.0000e+00, 0.0000e+00,\n",
              "        0.0000e+00, 2.0000e+01, 0.0000e+00],\n",
              "       [6.4000e+01, 2.0000e+00, 4.0000e+00, 1.0000e+00, 0.0000e+00,\n",
              "        0.0000e+00, 4.0000e+01, 0.0000e+00],\n",
              "       [9.0000e+01, 9.0000e+00, 2.0000e+00, 1.0000e+00, 0.0000e+00,\n",
              "        2.2060e+03, 4.0000e+01, 0.0000e+00],\n",
              "       [6.6000e+01, 9.0000e+00, 4.0000e+00, 1.0000e+00, 1.4090e+03,\n",
              "        0.0000e+00, 5.0000e+01, 0.0000e+00],\n",
              "       [7.5000e+01, 1.1000e+01, 4.0000e+00, 0.0000e+00, 0.0000e+00,\n",
              "        0.0000e+00, 2.0000e+01, 0.0000e+00],\n",
              "       [6.5000e+01, 9.0000e+00, 4.0000e+00, 0.0000e+00, 0.0000e+00,\n",
              "        0.0000e+00, 4.0000e+01, 0.0000e+00],\n",
              "       [6.4000e+01, 9.0000e+00, 4.0000e+00, 1.0000e+00, 0.0000e+00,\n",
              "        0.0000e+00, 4.0000e+01, 1.0000e+00],\n",
              "       [6.1000e+01, 9.0000e+00, 4.0000e+00, 1.0000e+00, 0.0000e+00,\n",
              "        0.0000e+00, 4.0000e+01, 1.0000e+00],\n",
              "       [6.5000e+01, 9.0000e+00, 4.0000e+00, 1.0000e+00, 0.0000e+00,\n",
              "        0.0000e+00, 1.6000e+01, 0.0000e+00],\n",
              "       [7.7000e+01, 1.0000e+01, 4.0000e+00, 1.0000e+00, 0.0000e+00,\n",
              "        0.0000e+00, 4.0000e+01, 0.0000e+00],\n",
              "       [6.2000e+01, 9.0000e+00, 4.0000e+00, 0.0000e+00, 0.0000e+00,\n",
              "        0.0000e+00, 2.4000e+01, 0.0000e+00],\n",
              "       [7.6000e+01, 1.4000e+01, 4.0000e+00, 1.0000e+00, 0.0000e+00,\n",
              "        0.0000e+00, 1.0000e+01, 0.0000e+00],\n",
              "       [6.3000e+01, 9.0000e+00, 4.0000e+00, 1.0000e+00, 0.0000e+00,\n",
              "        0.0000e+00, 4.5000e+01, 0.0000e+00],\n",
              "       [6.6000e+01, 9.0000e+00, 4.0000e+00, 1.0000e+00, 2.0500e+03,\n",
              "        0.0000e+00, 5.5000e+01, 0.0000e+00],\n",
              "       [6.7000e+01, 7.0000e+00, 4.0000e+00, 1.0000e+00, 0.0000e+00,\n",
              "        0.0000e+00, 8.0000e+00, 0.0000e+00],\n",
              "       [6.5000e+01, 7.0000e+00, 3.0000e+00, 1.0000e+00, 0.0000e+00,\n",
              "        0.0000e+00, 4.0000e+01, 0.0000e+00],\n",
              "       [6.2000e+01, 1.4000e+01, 4.0000e+00, 1.0000e+00, 0.0000e+00,\n",
              "        0.0000e+00, 4.0000e+01, 1.0000e+00],\n",
              "       [6.3000e+01, 9.0000e+00, 4.0000e+00, 1.0000e+00, 0.0000e+00,\n",
              "        0.0000e+00, 4.0000e+01, 1.0000e+00],\n",
              "       [8.0000e+01, 9.0000e+00, 4.0000e+00, 1.0000e+00, 0.0000e+00,\n",
              "        0.0000e+00, 2.4000e+01, 0.0000e+00],\n",
              "       [6.7000e+01, 1.1000e+01, 4.0000e+00, 0.0000e+00, 0.0000e+00,\n",
              "        0.0000e+00, 2.4000e+01, 0.0000e+00],\n",
              "       [6.3000e+01, 2.0000e+00, 4.0000e+00, 1.0000e+00, 0.0000e+00,\n",
              "        0.0000e+00, 3.5000e+01, 0.0000e+00],\n",
              "       [7.2000e+01, 9.0000e+00, 4.0000e+00, 1.0000e+00, 0.0000e+00,\n",
              "        0.0000e+00, 2.0000e+01, 0.0000e+00],\n",
              "       [6.2000e+01, 9.0000e+00, 4.0000e+00, 1.0000e+00, 0.0000e+00,\n",
              "        0.0000e+00, 4.0000e+01, 0.0000e+00],\n",
              "       [7.4000e+01, 1.0000e+01, 4.0000e+00, 0.0000e+00, 0.0000e+00,\n",
              "        0.0000e+00, 9.0000e+00, 0.0000e+00],\n",
              "       [6.7000e+01, 1.5000e+01, 4.0000e+00, 1.0000e+00, 2.0051e+04,\n",
              "        0.0000e+00, 4.8000e+01, 1.0000e+00],\n",
              "       [7.2000e+01, 7.0000e+00, 4.0000e+00, 0.0000e+00, 0.0000e+00,\n",
              "        0.0000e+00, 4.0000e+01, 0.0000e+00],\n",
              "       [6.9000e+01, 7.0000e+00, 4.0000e+00, 0.0000e+00, 0.0000e+00,\n",
              "        0.0000e+00, 4.0000e+01, 0.0000e+00],\n",
              "       [6.5000e+01, 1.0000e+01, 4.0000e+00, 1.0000e+00, 0.0000e+00,\n",
              "        0.0000e+00, 3.0000e+01, 1.0000e+00],\n",
              "       [6.5000e+01, 5.0000e+00, 2.0000e+00, 0.0000e+00, 0.0000e+00,\n",
              "        0.0000e+00, 2.4000e+01, 0.0000e+00],\n",
              "       [7.1000e+01, 9.0000e+00, 4.0000e+00, 1.0000e+00, 0.0000e+00,\n",
              "        0.0000e+00, 1.5000e+01, 0.0000e+00],\n",
              "       [7.0000e+01, 5.0000e+00, 4.0000e+00, 0.0000e+00, 1.1110e+03,\n",
              "        0.0000e+00, 1.5000e+01, 0.0000e+00],\n",
              "       [6.6000e+01, 4.0000e+00, 4.0000e+00, 1.0000e+00, 0.0000e+00,\n",
              "        0.0000e+00, 4.0000e+00, 0.0000e+00],\n",
              "       [6.5000e+01, 7.0000e+00, 4.0000e+00, 1.0000e+00, 9.3860e+03,\n",
              "        0.0000e+00, 5.9000e+01, 1.0000e+00],\n",
              "       [6.1000e+01, 9.0000e+00, 4.0000e+00, 1.0000e+00, 0.0000e+00,\n",
              "        2.3520e+03, 5.0000e+01, 0.0000e+00],\n",
              "       [6.1000e+01, 9.0000e+00, 4.0000e+00, 1.0000e+00, 0.0000e+00,\n",
              "        0.0000e+00, 4.0000e+01, 0.0000e+00],\n",
              "       [6.8000e+01, 7.0000e+00, 4.0000e+00, 1.0000e+00, 0.0000e+00,\n",
              "        0.0000e+00, 2.0000e+01, 0.0000e+00],\n",
              "       [6.4000e+01, 1.3000e+01, 4.0000e+00, 1.0000e+00, 0.0000e+00,\n",
              "        0.0000e+00, 4.0000e+01, 1.0000e+00],\n",
              "       [6.4000e+01, 9.0000e+00, 4.0000e+00, 1.0000e+00, 0.0000e+00,\n",
              "        0.0000e+00, 4.5000e+01, 0.0000e+00],\n",
              "       [6.2000e+01, 9.0000e+00, 4.0000e+00, 0.0000e+00, 0.0000e+00,\n",
              "        0.0000e+00, 4.0000e+01, 0.0000e+00],\n",
              "       [7.3000e+01, 9.0000e+00, 4.0000e+00, 1.0000e+00, 0.0000e+00,\n",
              "        0.0000e+00, 4.0000e+01, 0.0000e+00],\n",
              "       [7.2000e+01, 7.0000e+00, 4.0000e+00, 0.0000e+00, 0.0000e+00,\n",
              "        0.0000e+00, 2.4000e+01, 0.0000e+00],\n",
              "       [6.3000e+01, 9.0000e+00, 4.0000e+00, 1.0000e+00, 0.0000e+00,\n",
              "        0.0000e+00, 6.0000e+00, 0.0000e+00],\n",
              "       [6.2000e+01, 1.3000e+01, 4.0000e+00, 0.0000e+00, 0.0000e+00,\n",
              "        0.0000e+00, 4.8000e+01, 0.0000e+00],\n",
              "       [6.1000e+01, 1.4000e+01, 4.0000e+00, 0.0000e+00, 0.0000e+00,\n",
              "        0.0000e+00, 4.0000e+01, 1.0000e+00],\n",
              "       [7.1000e+01, 1.4000e+01, 4.0000e+00, 1.0000e+00, 1.0605e+04,\n",
              "        0.0000e+00, 4.0000e+01, 1.0000e+00],\n",
              "       [6.3000e+01, 1.0000e+01, 4.0000e+00, 1.0000e+00, 0.0000e+00,\n",
              "        0.0000e+00, 1.5000e+01, 0.0000e+00],\n",
              "       [6.3000e+01, 4.0000e+00, 4.0000e+00, 1.0000e+00, 0.0000e+00,\n",
              "        0.0000e+00, 5.5000e+01, 0.0000e+00],\n",
              "       [6.7000e+01, 9.0000e+00, 1.0000e+00, 1.0000e+00, 0.0000e+00,\n",
              "        0.0000e+00, 4.0000e+01, 1.0000e+00],\n",
              "       [8.1000e+01, 9.0000e+00, 4.0000e+00, 1.0000e+00, 0.0000e+00,\n",
              "        0.0000e+00, 3.0000e+01, 0.0000e+00],\n",
              "       [6.4000e+01, 9.0000e+00, 4.0000e+00, 1.0000e+00, 0.0000e+00,\n",
              "        0.0000e+00, 5.0000e+00, 0.0000e+00],\n",
              "       [6.7000e+01, 1.3000e+01, 4.0000e+00, 1.0000e+00, 0.0000e+00,\n",
              "        2.3920e+03, 4.0000e+01, 1.0000e+00],\n",
              "       [7.8000e+01, 9.0000e+00, 2.0000e+00, 0.0000e+00, 2.9640e+03,\n",
              "        0.0000e+00, 4.0000e+01, 0.0000e+00],\n",
              "       [6.3000e+01, 1.1000e+01, 4.0000e+00, 0.0000e+00, 0.0000e+00,\n",
              "        0.0000e+00, 2.0000e+01, 0.0000e+00]])"
            ]
          },
          "metadata": {},
          "execution_count": 30
        }
      ]
    },
    {
      "cell_type": "markdown",
      "source": [
        "b.Add all the working hours(working hours is the column with index 6) of 'senior_citizens' and store it in a variable called 'working_hours_sum'"
      ],
      "metadata": {
        "id": "mDbsg8N0_K8b"
      }
    },
    {
      "cell_type": "code",
      "source": [
        "working_hours_sum =senior_citizens[:,6].sum()\n",
        "working_hours_sum"
      ],
      "metadata": {
        "id": "fYZTR7EMgupn",
        "colab": {
          "base_uri": "https://localhost:8080/"
        },
        "outputId": "2de17248-3f66-4081-804d-489d69d9aec8"
      },
      "execution_count": 38,
      "outputs": [
        {
          "output_type": "execute_result",
          "data": {
            "text/plain": [
              "1917.0"
            ]
          },
          "metadata": {},
          "execution_count": 38
        }
      ]
    },
    {
      "cell_type": "markdown",
      "source": [
        "c.Find the length of 'senior_citizens' and store it in a variable called 'senior_citizens_len'"
      ],
      "metadata": {
        "id": "l4h6_8DfBD9x"
      }
    },
    {
      "cell_type": "code",
      "source": [
        "senior_citizens_len =len(senior_citizens)\n",
        "senior_citizens_len"
      ],
      "metadata": {
        "id": "pPExiV83gwaC",
        "colab": {
          "base_uri": "https://localhost:8080/"
        },
        "outputId": "11f6b882-44cb-4ab1-c6b1-e23cd5cc10d0"
      },
      "execution_count": 39,
      "outputs": [
        {
          "output_type": "execute_result",
          "data": {
            "text/plain": [
              "61"
            ]
          },
          "metadata": {},
          "execution_count": 39
        }
      ]
    },
    {
      "cell_type": "markdown",
      "source": [
        "d. Finally find the average working hours of the senior citizens by dividing 'working_hours_sum' by 'senior_citizens_len' and store it in a variable called 'avg_working hours'."
      ],
      "metadata": {
        "id": "-6mWgLiXBgAW"
      }
    },
    {
      "cell_type": "code",
      "source": [
        "avg_working_hours = working_hours_sum /senior_citizens_len\n",
        "avg_working_hours"
      ],
      "metadata": {
        "id": "AOwajHabgy29",
        "colab": {
          "base_uri": "https://localhost:8080/"
        },
        "outputId": "72de30ef-bee4-4588-bd68-7d38f548da3b"
      },
      "execution_count": 40,
      "outputs": [
        {
          "output_type": "execute_result",
          "data": {
            "text/plain": [
              "31.42622950819672"
            ]
          },
          "metadata": {},
          "execution_count": 40
        }
      ]
    },
    {
      "cell_type": "markdown",
      "source": [
        "e. Print 'avg_working_hours' and see if the govt. policy is followed."
      ],
      "metadata": {
        "id": "VS382pv_CY1Q"
      }
    },
    {
      "cell_type": "code",
      "source": [
        "avg_working_hours"
      ],
      "metadata": {
        "id": "NatAJ4JBgzr4",
        "colab": {
          "base_uri": "https://localhost:8080/"
        },
        "outputId": "50bf4e4d-4e27-4331-8c5a-8b8e9780ba5b"
      },
      "execution_count": 41,
      "outputs": [
        {
          "output_type": "execute_result",
          "data": {
            "text/plain": [
              "31.42622950819672"
            ]
          },
          "metadata": {},
          "execution_count": 41
        }
      ]
    },
    {
      "cell_type": "markdown",
      "source": [
        "# Step 6: Let's check that higher educated people have better pay in general."
      ],
      "metadata": {
        "id": "KRGhpDBKEIa-"
      }
    },
    {
      "cell_type": "markdown",
      "source": [
        "Create two new subset arrays called 'high' and 'low' by filtering 'census' according to education-num>10 and education-num<=10 (education-num is the column with index 1) respectively.\n",
        "\n"
      ],
      "metadata": {
        "id": "-5rc9FarELwP"
      }
    },
    {
      "cell_type": "code",
      "source": [
        "high =data[data[:,1]>10]\n",
        "high"
      ],
      "metadata": {
        "id": "GVA3Dgp5g2Ui",
        "colab": {
          "base_uri": "https://localhost:8080/"
        },
        "outputId": "130ab64f-affc-43b2-8fed-86746e11de2a"
      },
      "execution_count": 42,
      "outputs": [
        {
          "output_type": "execute_result",
          "data": {
            "text/plain": [
              "array([[39., 13.,  4., ...,  0., 40.,  0.],\n",
              "       [50., 13.,  4., ...,  0., 13.,  0.],\n",
              "       [28., 13.,  2., ...,  0., 40.,  0.],\n",
              "       ...,\n",
              "       [45., 14.,  4., ...,  0., 45.,  0.],\n",
              "       [48., 13.,  4., ...,  0., 58.,  1.],\n",
              "       [39., 13.,  4., ...,  0., 50.,  1.]])"
            ]
          },
          "metadata": {},
          "execution_count": 42
        }
      ]
    },
    {
      "cell_type": "code",
      "source": [
        "low =data[data[:,1]<=10]\n",
        "low"
      ],
      "metadata": {
        "colab": {
          "base_uri": "https://localhost:8080/"
        },
        "id": "AeDguQqxpgFA",
        "outputId": "9aa88636-0bfe-4f58-db7a-e25eb31d6920"
      },
      "execution_count": 43,
      "outputs": [
        {
          "output_type": "execute_result",
          "data": {
            "text/plain": [
              "array([[38.,  9.,  4., ...,  0., 40.,  0.],\n",
              "       [53.,  7.,  2., ...,  0., 40.,  0.],\n",
              "       [49.,  5.,  2., ...,  0., 16.,  0.],\n",
              "       ...,\n",
              "       [56.,  9.,  4., ...,  0., 55.,  1.],\n",
              "       [40., 10.,  4., ...,  0., 40.,  0.],\n",
              "       [50.,  9.,  4., ...,  0., 40.,  0.]])"
            ]
          },
          "metadata": {},
          "execution_count": 43
        }
      ]
    },
    {
      "cell_type": "markdown",
      "source": [
        "Find the mean of income column(income is the column with index 7) of 'high' array and store it in 'avg_pay_high'. Do the same for 'low' array and store it's mean in 'avg_pay_low'."
      ],
      "metadata": {
        "id": "I4MwXFEbFEjV"
      }
    },
    {
      "cell_type": "code",
      "source": [
        "avg_pay_high =high[:,7].mean()\n",
        "avg_pay_high"
      ],
      "metadata": {
        "colab": {
          "base_uri": "https://localhost:8080/"
        },
        "id": "aaHfrQd1FItV",
        "outputId": "1a2c73dc-db11-4dc2-9155-233ccae4a2fa"
      },
      "execution_count": 46,
      "outputs": [
        {
          "output_type": "execute_result",
          "data": {
            "text/plain": [
              "0.42813455657492355"
            ]
          },
          "metadata": {},
          "execution_count": 46
        }
      ]
    },
    {
      "cell_type": "code",
      "source": [
        "avg_pay_low =low[:,7].mean()\n",
        "avg_pay_low"
      ],
      "metadata": {
        "colab": {
          "base_uri": "https://localhost:8080/"
        },
        "id": "W4pJ8mhvHjlL",
        "outputId": "0afb859f-a283-461c-806b-8c163f380b9f"
      },
      "execution_count": 47,
      "outputs": [
        {
          "output_type": "execute_result",
          "data": {
            "text/plain": [
              "0.13649851632047477"
            ]
          },
          "metadata": {},
          "execution_count": 47
        }
      ]
    }
  ]
}